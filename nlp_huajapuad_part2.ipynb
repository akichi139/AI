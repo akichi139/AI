{
  "nbformat": 4,
  "nbformat_minor": 0,
  "metadata": {
    "colab": {
      "provenance": []
    },
    "kernelspec": {
      "name": "python3",
      "display_name": "Python 3"
    },
    "language_info": {
      "name": "python"
    }
  },
  "cells": [
    {
      "cell_type": "markdown",
      "source": [
        "# **Airport's sentiment analysis**"
      ],
      "metadata": {
        "id": "jWU9xaPhe0HA"
      }
    },
    {
      "cell_type": "markdown",
      "source": [
        "## **Import libraries**"
      ],
      "metadata": {
        "id": "zz28ryS8e5YI"
      }
    },
    {
      "cell_type": "code",
      "source": [
        "!pip install contractions\n",
        "!pip install imbalanced-learn"
      ],
      "metadata": {
        "colab": {
          "base_uri": "https://localhost:8080/"
        },
        "id": "RbFXks4wiPDf",
        "outputId": "f3d68842-fa8c-4555-d5ab-1f9031d4d7bb"
      },
      "execution_count": null,
      "outputs": [
        {
          "output_type": "stream",
          "name": "stdout",
          "text": [
            "Looking in indexes: https://pypi.org/simple, https://us-python.pkg.dev/colab-wheels/public/simple/\n",
            "Requirement already satisfied: contractions in /usr/local/lib/python3.7/dist-packages (0.1.72)\n",
            "Requirement already satisfied: textsearch>=0.0.21 in /usr/local/lib/python3.7/dist-packages (from contractions) (0.0.24)\n",
            "Requirement already satisfied: pyahocorasick in /usr/local/lib/python3.7/dist-packages (from textsearch>=0.0.21->contractions) (1.4.4)\n",
            "Requirement already satisfied: anyascii in /usr/local/lib/python3.7/dist-packages (from textsearch>=0.0.21->contractions) (0.3.1)\n",
            "Looking in indexes: https://pypi.org/simple, https://us-python.pkg.dev/colab-wheels/public/simple/\n",
            "Requirement already satisfied: imbalanced-learn in /usr/local/lib/python3.7/dist-packages (0.8.1)\n",
            "Requirement already satisfied: numpy>=1.13.3 in /usr/local/lib/python3.7/dist-packages (from imbalanced-learn) (1.21.6)\n",
            "Requirement already satisfied: scipy>=0.19.1 in /usr/local/lib/python3.7/dist-packages (from imbalanced-learn) (1.7.3)\n",
            "Requirement already satisfied: joblib>=0.11 in /usr/local/lib/python3.7/dist-packages (from imbalanced-learn) (1.2.0)\n",
            "Requirement already satisfied: scikit-learn>=0.24 in /usr/local/lib/python3.7/dist-packages (from imbalanced-learn) (1.0.2)\n",
            "Requirement already satisfied: threadpoolctl>=2.0.0 in /usr/local/lib/python3.7/dist-packages (from scikit-learn>=0.24->imbalanced-learn) (3.1.0)\n"
          ]
        }
      ]
    },
    {
      "cell_type": "code",
      "execution_count": null,
      "metadata": {
        "id": "sJO0miyK5zIz",
        "colab": {
          "base_uri": "https://localhost:8080/"
        },
        "outputId": "cfe93d5f-6c74-459b-bd83-df4d70843f77"
      },
      "outputs": [
        {
          "output_type": "stream",
          "name": "stderr",
          "text": [
            "[nltk_data] Downloading package wordnet to /root/nltk_data...\n",
            "[nltk_data]   Package wordnet is already up-to-date!\n"
          ]
        }
      ],
      "source": [
        "#Import standard libraries\n",
        "import pandas as pd\n",
        "import numpy as np\n",
        "import matplotlib.pyplot as plt\n",
        "import seaborn as sns\n",
        "\n",
        "#Import word cleaning libraries\n",
        "import contractions\n",
        "import nltk\n",
        "nltk.download('wordnet')\n",
        "from nltk.tokenize import sent_tokenize, word_tokenize\n",
        "from nltk.corpus import stopwords\n",
        "from nltk.stem import WordNetLemmatizer\n",
        "import string\n",
        "\n",
        "#Import learning libraries\n",
        "from sklearn.model_selection import train_test_split\n",
        "from sklearn.metrics import confusion_matrix, accuracy_score\n",
        "from keras.preprocessing.text import Tokenizer\n",
        "from tensorflow.keras.utils import to_categorical\n",
        "from keras_preprocessing.sequence import pad_sequences\n",
        "from keras.models import Sequential\n",
        "from keras.layers import Embedding, Flatten, Dense, LSTM, Bidirectional\n",
        "import pickle\n",
        "\n",
        "#Import imbalance libraries\n",
        "from imblearn.over_sampling import RandomOverSampler\n",
        "from sklearn.utils import shuffle"
      ]
    },
    {
      "cell_type": "markdown",
      "source": [
        "## **Import datas**"
      ],
      "metadata": {
        "id": "C8g6rHEefH_x"
      }
    },
    {
      "cell_type": "code",
      "source": [
        "manchester_trustpilot_df = pd.read_csv('https://raw.githubusercontent.com/ssxxnnxxtt/Thai-s-airport-review/main/data/manchester_trustpilot.csv')\n",
        "\n",
        "neutral_range = 2\n",
        "manchester_trustpilot_df[\"sentiment\"] = 0\n",
        "manchester_trustpilot_df[\"sentiment\"].loc[(manchester_trustpilot_df[\"score\"] > neutral_range)] = 1"
      ],
      "metadata": {
        "id": "etMLYnbiVI91",
        "colab": {
          "base_uri": "https://localhost:8080/"
        },
        "outputId": "264114ca-4a6a-485f-ce70-735ccbcf6a13"
      },
      "execution_count": null,
      "outputs": [
        {
          "output_type": "stream",
          "name": "stderr",
          "text": [
            "/usr/local/lib/python3.7/dist-packages/pandas/core/indexing.py:1732: SettingWithCopyWarning: \n",
            "A value is trying to be set on a copy of a slice from a DataFrame\n",
            "\n",
            "See the caveats in the documentation: https://pandas.pydata.org/pandas-docs/stable/user_guide/indexing.html#returning-a-view-versus-a-copy\n",
            "  self._setitem_single_block(indexer, value, name)\n"
          ]
        }
      ]
    },
    {
      "cell_type": "code",
      "source": [
        "manchester_airlinequality_df = pd.read_csv('https://raw.githubusercontent.com/ssxxnnxxtt/Thai-s-airport-review/main/data/manchester_airlinequality.csv')\n",
        "\n",
        "neutral_range = 4\n",
        "manchester_airlinequality_df[\"sentiment\"] = 0\n",
        "manchester_airlinequality_df[\"sentiment\"].loc[(manchester_airlinequality_df[\"score\"] > neutral_range)] = 1"
      ],
      "metadata": {
        "id": "LkZHNYgkVg0i"
      },
      "execution_count": null,
      "outputs": []
    },
    {
      "cell_type": "code",
      "source": [
        "london_airlinequality_df = pd.read_csv('https://raw.githubusercontent.com/ssxxnnxxtt/Thai-s-airport-review/main/data/london_heathrow_airlinequality.csv')\n",
        "\n",
        "neutral_range = 4\n",
        "london_airlinequality_df[\"sentiment\"] = 0\n",
        "london_airlinequality_df[\"sentiment\"].loc[(london_airlinequality_df[\"score\"] > neutral_range)] = 1"
      ],
      "metadata": {
        "id": "C1YFl1LJVhFG"
      },
      "execution_count": null,
      "outputs": []
    },
    {
      "cell_type": "code",
      "source": [
        "frames = [manchester_trustpilot_df, manchester_airlinequality_df, london_airlinequality_df]\n",
        "combind_df = pd.concat(frames)\n",
        "\n",
        "neutral_range = 4\n",
        "combind_df[\"sentiment\"] = 0\n",
        "combind_df[\"sentiment\"].loc[(combind_df[\"score\"] > neutral_range)] = 1\n",
        "combind_df.head(10)\n",
        "\n",
        "combind_df.groupby(['sentiment']).count().plot(kind='pie', y='review', figsize=(8,8), autopct='%1.1f%%')"
      ],
      "metadata": {
        "id": "B-5Yh1cA82Rz",
        "colab": {
          "base_uri": "https://localhost:8080/",
          "height": 484
        },
        "outputId": "84da2f7e-adf2-46ba-c023-e84fe5483889"
      },
      "execution_count": null,
      "outputs": [
        {
          "output_type": "execute_result",
          "data": {
            "text/plain": [
              "<matplotlib.axes._subplots.AxesSubplot at 0x7f61b8ba6210>"
            ]
          },
          "metadata": {},
          "execution_count": 6
        },
        {
          "output_type": "display_data",
          "data": {
            "text/plain": [
              "<Figure size 576x576 with 1 Axes>"
            ],
            "image/png": "[encoded data removed]"
          },
          "metadata": {}
        }
      ]
    },
    {
      "cell_type": "code",
      "source": [
        "len(combind_df)"
      ],
      "metadata": {
        "id": "x1XvLxhW32rG",
        "colab": {
          "base_uri": "https://localhost:8080/"
        },
        "outputId": "7a730cf2-7cc3-4b96-b1ad-53831679561d"
      },
      "execution_count": null,
      "outputs": [
        {
          "output_type": "execute_result",
          "data": {
            "text/plain": [
              "6031"
            ]
          },
          "metadata": {},
          "execution_count": 7
        }
      ]
    },
    {
      "cell_type": "code",
      "source": [
        "file_name = \"Test.csv\"\n",
        "\n",
        "combind_df.to_csv(file_name)"
      ],
      "metadata": {
        "id": "wUWSKqDSqr_O"
      },
      "execution_count": null,
      "outputs": []
    },
    {
      "cell_type": "code",
      "source": [
        "thai_suvarnabhumi_df = pd.read_csv('https://raw.githubusercontent.com/ssxxnnxxtt/Thai-s-airport-review/main/data/suvarnabhumi_airlinequality.csv')\n",
        "\n",
        "neutral_range = 4\n",
        "thai_suvarnabhumi_df[\"sentiment\"] = 0\n",
        "thai_suvarnabhumi_df[\"sentiment\"].loc[(thai_suvarnabhumi_df[\"score\"] > neutral_range)] = 1\n",
        "thai_suvarnabhumi_df.head(10)\n",
        "\n",
        "thai_suvarnabhumi_df.groupby(['sentiment']).count().plot(kind='pie', y='review', figsize=(8,8), autopct='%1.1f%%')"
      ],
      "metadata": {
        "id": "QxPl-PJvIEXo",
        "colab": {
          "base_uri": "https://localhost:8080/",
          "height": 484
        },
        "outputId": "179600d1-4ad7-4a90-f460-ec6f0f5f173f"
      },
      "execution_count": null,
      "outputs": [
        {
          "output_type": "execute_result",
          "data": {
            "text/plain": [
              "<matplotlib.axes._subplots.AxesSubplot at 0x7f61b86cf610>"
            ]
          },
          "metadata": {},
          "execution_count": 9
        },
        {
          "output_type": "display_data",
          "data": {
            "text/plain": [
              "<Figure size 576x576 with 1 Axes>"
            ],
            "image/png": "[encoded data removed]"
          },
          "metadata": {}
        }
      ]
    },
    {
      "cell_type": "code",
      "source": [
        "thai_don_muang_df = pd.read_csv('https://raw.githubusercontent.com/ssxxnnxxtt/Thai-s-airport-review/main/data/don_muang_airlinequality.csv')\n",
        "\n",
        "neutral_range = 4\n",
        "thai_don_muang_df[\"sentiment\"] = 0\n",
        "thai_don_muang_df[\"sentiment\"].loc[(thai_don_muang_df[\"score\"] > neutral_range)] = 1\n",
        "thai_don_muang_df.head(10)\n",
        "\n",
        "thai_don_muang_df.groupby(['sentiment']).count().plot(kind='pie', y='review', figsize=(8,8), autopct='%1.1f%%')"
      ],
      "metadata": {
        "colab": {
          "base_uri": "https://localhost:8080/",
          "height": 484
        },
        "id": "cSE6ghc_TfPu",
        "outputId": "d5fae174-2bdc-4b9a-d100-22272d6e6070"
      },
      "execution_count": null,
      "outputs": [
        {
          "output_type": "execute_result",
          "data": {
            "text/plain": [
              "<matplotlib.axes._subplots.AxesSubplot at 0x7f61b8668a90>"
            ]
          },
          "metadata": {},
          "execution_count": 10
        },
        {
          "output_type": "display_data",
          "data": {
            "text/plain": [
              "<Figure size 576x576 with 1 Axes>"
            ],
            "image/png": "[encoded data removed]"
          },
          "metadata": {}
        }
      ]
    },
    {
      "cell_type": "markdown",
      "source": [
        "## **Clean datas**"
      ],
      "metadata": {
        "id": "II04QLm7WBee"
      }
    },
    {
      "cell_type": "code",
      "source": [
        "url = '/content/Test.csv'\n",
        "combind_df = pd.read_csv(url)"
      ],
      "metadata": {
        "id": "A2MuoAxi9uGM"
      },
      "execution_count": null,
      "outputs": []
    },
    {
      "cell_type": "code",
      "source": [
        "nltk.download('punkt')\n",
        "\n",
        "nltk.download('stopwords')\n",
        "stops = set(stopwords.words('english'))\n",
        "\n",
        "def clearStopwords(sentence):\n",
        "    words = word_tokenize(sentence)\n",
        "\n",
        "    wordsFiltered = []\n",
        "\n",
        "    for w in words:\n",
        "        if w not in stops:\n",
        "            wordsFiltered.append(w)\n",
        "\n",
        "    return ' '.join(wordsFiltered)\n",
        "\n",
        "def clean_data(dataframe):\n",
        "    dataframe['review_expand'] = dataframe.apply(lambda row:contractions.fix(row['review']), axis=1)\n",
        "    del dataframe['review']\n",
        "\n",
        "    #Delete stopwords\n",
        "    dataframe['review_clear'] = dataframe['review_expand'].map(lambda x: clearStopwords(x))\n",
        "\n",
        "    #Delete punctuation\n",
        "    dataframe['review_punctuation'] = dataframe.apply(lambda row:(row['review_clear']).translate(str.maketrans('', '', string.punctuation)), axis=1)\n",
        "    dataframe['review_punctuation'] = dataframe['review_punctuation'].str.lower()\n",
        "    dataframe['review_punctuation'] = dataframe.apply(lambda row:' '.join((row['review_punctuation']).split()), axis=1)\n",
        "\n",
        "    #Delete words\n",
        "    dataframe['review_punctuation'] = dataframe['review_punctuation'].str.replace('manchester', '')\n",
        "    dataframe['review_punctuation'] = dataframe['review_punctuation'].str.replace('liverpool', '')\n",
        "    dataframe['review_punctuation'] = dataframe['review_punctuation'].str.replace('london', '')\n",
        "    dataframe['review_punctuation'] = dataframe['review_punctuation'].str.replace('birmingham', '')\n",
        "    dataframe['review_punctuation'] = dataframe['review_punctuation'].str.replace('england', '')\n",
        "    dataframe['review_punctuation'] = dataframe['review_punctuation'].str.replace('europe', '')\n",
        "    dataframe['review_punctuation'] = dataframe['review_punctuation'].str.replace('euro', '')\n",
        "    dataframe['review_punctuation'] = dataframe['review_punctuation'].str.replace('eur', '')\n",
        "    dataframe['review_punctuation'] = dataframe['review_punctuation'].str.replace('asia', '')\n",
        "    dataframe['review_punctuation'] = dataframe['review_punctuation'].str.replace('thai', '')\n",
        "    dataframe['review_punctuation'] = dataframe['review_punctuation'].str.replace('thailand', '')\n",
        "    dataframe['review_punctuation'] = dataframe['review_punctuation'].str.replace('suvarnabhumi', '')\n",
        "    dataframe['review_punctuation'] = dataframe['review_punctuation'].str.replace('donmuang', '')\n",
        "    dataframe['review_punctuation'] = dataframe['review_punctuation'].str.replace('don', '')\n",
        "    dataframe['review_punctuation'] = dataframe['review_punctuation'].str.replace('muang', '')\n",
        "    dataframe['review_punctuation'] = dataframe['review_punctuation'].str.replace('bangkok', '')\n",
        "    dataframe['review_punctuation'] = dataframe['review_punctuation'].str.replace('pattaya', '')\n",
        "    dataframe['review_punctuation'] = dataframe['review_punctuation'].str.replace('bkk', '')\n",
        "    dataframe['review_punctuation'] = dataframe['review_punctuation'].str.replace('uk', '')\n",
        "    dataframe['review_punctuation'] = dataframe['review_punctuation'].str.replace('“', '')\n",
        "\n",
        "    translation_table = str.maketrans('', '', string.digits)\n",
        "    dataframe['review_punctuation'] = dataframe['review_punctuation'].str.translate(translation_table)\n",
        "\n",
        "    #Delete stopwords (round 2)\n",
        "    dataframe['review_punctuation'] = dataframe['review_punctuation'].map(lambda x: clearStopwords(x))\n",
        "\n",
        "    return dataframe"
      ],
      "metadata": {
        "colab": {
          "base_uri": "https://localhost:8080/"
        },
        "id": "l7mcOUMuUABf",
        "outputId": "8470e053-6961-414e-a734-e53e4ef72895"
      },
      "execution_count": null,
      "outputs": [
        {
          "output_type": "stream",
          "name": "stderr",
          "text": [
            "[nltk_data] Downloading package punkt to /root/nltk_data...\n",
            "[nltk_data]   Package punkt is already up-to-date!\n",
            "[nltk_data] Downloading package stopwords to /root/nltk_data...\n",
            "[nltk_data]   Package stopwords is already up-to-date!\n"
          ]
        }
      ]
    },
    {
      "cell_type": "code",
      "source": [
        "combind_clean_df = clean_data(combind_df)"
      ],
      "metadata": {
        "id": "Ph0bKeLzU8EE"
      },
      "execution_count": null,
      "outputs": []
    },
    {
      "cell_type": "code",
      "source": [
        "combind_clean_df.head(10)"
      ],
      "metadata": {
        "colab": {
          "base_uri": "https://localhost:8080/",
          "height": 363
        },
        "id": "r0ivQ1i8VpfY",
        "outputId": "4d0da1da-4ec3-49e1-b6de-6dd99bb99faa"
      },
      "execution_count": null,
      "outputs": [
        {
          "output_type": "execute_result",
          "data": {
            "text/plain": [
              "   Unnamed: 0  Unnamed: 0.1  score  sentiment  \\\n",
              "0           0             0    1.0          0   \n",
              "1           1             1    1.0          0   \n",
              "2           2             2    1.0          0   \n",
              "3           3             3    1.0          0   \n",
              "4           4             4    1.0          0   \n",
              "5           5             5    1.0          0   \n",
              "6           6             6    1.0          0   \n",
              "7           7             7    1.0          0   \n",
              "8           8             8    1.0          0   \n",
              "9           9             9    1.0          0   \n",
              "\n",
              "                                       review_expand  \\\n",
              "0  Horrible experience. Meet and greet parking - ...   \n",
              "1  Extremely rude staff at baggage check. Unhelpf...   \n",
              "2  Utterly, totally clueless at security. Putting...   \n",
              "3  Have collected family from Manchester airport ...   \n",
              "4  What a truely, grotty depressing place. Ripped...   \n",
              "5  I went to pickup from T3 today. Trying to get ...   \n",
              "6  Just returned home from a trip to Europe. Flew...   \n",
              "7  The charges for being dropped off and collecte...   \n",
              "8  Manchester airport is a shambles. Security was...   \n",
              "9  This airport is possibly the worst in the worl...   \n",
              "\n",
              "                                        review_clear  \\\n",
              "0  Horrible experience . Meet greet parking - man...   \n",
              "1  Extremely rude staff baggage check . Unhelpful...   \n",
              "2  Utterly , totally clueless security . Putting ...   \n",
              "3  Have collected family Manchester airport 3 tim...   \n",
              "4  What truely , grotty depressing place . Ripped...   \n",
              "5  I went pickup T3 today . Trying get pickup are...   \n",
              "6  Just returned home trip Europe . Flew many air...   \n",
              "7  The charges dropped collected shocking . Absol...   \n",
              "8  Manchester airport shambles . Security long pa...   \n",
              "9  This airport possibly worst world . Absolutely...   \n",
              "\n",
              "                                  review_punctuation  \n",
              "0  horrible experience meet greet parking man poi...  \n",
              "1  extremely rude staff baggage check unhelpful s...  \n",
              "2  utterly totally clueless security putting tray...  \n",
              "3  collected family airport times year every time...  \n",
              "4  truely grotty depressing place ripped seats ev...  \n",
              "5  went pickup today trying get pickup area night...  \n",
              "6  returned home trip flew many airports stood wo...  \n",
              "7  charges dropped collected shocking absolute ri...  \n",
              "8  airport shambles security long painful staff i...  \n",
              "9  airport possibly worst world absolutely misera...  "
            ],
            "text/html": [
              "\n",
              "  <div id=\"df-9b07354d-dea3-482c-a583-147b7085078a\">\n",
              "    <div class=\"colab-df-container\">\n",
              "      <div>\n",
              "<style scoped>\n",
              "    .dataframe tbody tr th:only-of-type {\n",
              "        vertical-align: middle;\n",
              "    }\n",
              "\n",
              "    .dataframe tbody tr th {\n",
              "        vertical-align: top;\n",
              "    }\n",
              "\n",
              "    .dataframe thead th {\n",
              "        text-align: right;\n",
              "    }\n",
              "</style>\n",
              "<table border=\"1\" class=\"dataframe\">\n",
              "  <thead>\n",
              "    <tr style=\"text-align: right;\">\n",
              "      <th></th>\n",
              "      <th>Unnamed: 0</th>\n",
              "      <th>Unnamed: 0.1</th>\n",
              "      <th>score</th>\n",
              "      <th>sentiment</th>\n",
              "      <th>review_expand</th>\n",
              "      <th>review_clear</th>\n",
              "      <th>review_punctuation</th>\n",
              "    </tr>\n",
              "  </thead>\n",
              "  <tbody>\n",
              "    <tr>\n",
              "      <th>0</th>\n",
              "      <td>0</td>\n",
              "      <td>0</td>\n",
              "      <td>1.0</td>\n",
              "      <td>0</td>\n",
              "      <td>Horrible experience. Meet and greet parking - ...</td>\n",
              "      <td>Horrible experience . Meet greet parking - man...</td>\n",
              "      <td>horrible experience meet greet parking man poi...</td>\n",
              "    </tr>\n",
              "    <tr>\n",
              "      <th>1</th>\n",
              "      <td>1</td>\n",
              "      <td>1</td>\n",
              "      <td>1.0</td>\n",
              "      <td>0</td>\n",
              "      <td>Extremely rude staff at baggage check. Unhelpf...</td>\n",
              "      <td>Extremely rude staff baggage check . Unhelpful...</td>\n",
              "      <td>extremely rude staff baggage check unhelpful s...</td>\n",
              "    </tr>\n",
              "    <tr>\n",
              "      <th>2</th>\n",
              "      <td>2</td>\n",
              "      <td>2</td>\n",
              "      <td>1.0</td>\n",
              "      <td>0</td>\n",
              "      <td>Utterly, totally clueless at security. Putting...</td>\n",
              "      <td>Utterly , totally clueless security . Putting ...</td>\n",
              "      <td>utterly totally clueless security putting tray...</td>\n",
              "    </tr>\n",
              "    <tr>\n",
              "      <th>3</th>\n",
              "      <td>3</td>\n",
              "      <td>3</td>\n",
              "      <td>1.0</td>\n",
              "      <td>0</td>\n",
              "      <td>Have collected family from Manchester airport ...</td>\n",
              "      <td>Have collected family Manchester airport 3 tim...</td>\n",
              "      <td>collected family airport times year every time...</td>\n",
              "    </tr>\n",
              "    <tr>\n",
              "      <th>4</th>\n",
              "      <td>4</td>\n",
              "      <td>4</td>\n",
              "      <td>1.0</td>\n",
              "      <td>0</td>\n",
              "      <td>What a truely, grotty depressing place. Ripped...</td>\n",
              "      <td>What truely , grotty depressing place . Ripped...</td>\n",
              "      <td>truely grotty depressing place ripped seats ev...</td>\n",
              "    </tr>\n",
              "    <tr>\n",
              "      <th>5</th>\n",
              "      <td>5</td>\n",
              "      <td>5</td>\n",
              "      <td>1.0</td>\n",
              "      <td>0</td>\n",
              "      <td>I went to pickup from T3 today. Trying to get ...</td>\n",
              "      <td>I went pickup T3 today . Trying get pickup are...</td>\n",
              "      <td>went pickup today trying get pickup area night...</td>\n",
              "    </tr>\n",
              "    <tr>\n",
              "      <th>6</th>\n",
              "      <td>6</td>\n",
              "      <td>6</td>\n",
              "      <td>1.0</td>\n",
              "      <td>0</td>\n",
              "      <td>Just returned home from a trip to Europe. Flew...</td>\n",
              "      <td>Just returned home trip Europe . Flew many air...</td>\n",
              "      <td>returned home trip flew many airports stood wo...</td>\n",
              "    </tr>\n",
              "    <tr>\n",
              "      <th>7</th>\n",
              "      <td>7</td>\n",
              "      <td>7</td>\n",
              "      <td>1.0</td>\n",
              "      <td>0</td>\n",
              "      <td>The charges for being dropped off and collecte...</td>\n",
              "      <td>The charges dropped collected shocking . Absol...</td>\n",
              "      <td>charges dropped collected shocking absolute ri...</td>\n",
              "    </tr>\n",
              "    <tr>\n",
              "      <th>8</th>\n",
              "      <td>8</td>\n",
              "      <td>8</td>\n",
              "      <td>1.0</td>\n",
              "      <td>0</td>\n",
              "      <td>Manchester airport is a shambles. Security was...</td>\n",
              "      <td>Manchester airport shambles . Security long pa...</td>\n",
              "      <td>airport shambles security long painful staff i...</td>\n",
              "    </tr>\n",
              "    <tr>\n",
              "      <th>9</th>\n",
              "      <td>9</td>\n",
              "      <td>9</td>\n",
              "      <td>1.0</td>\n",
              "      <td>0</td>\n",
              "      <td>This airport is possibly the worst in the worl...</td>\n",
              "      <td>This airport possibly worst world . Absolutely...</td>\n",
              "      <td>airport possibly worst world absolutely misera...</td>\n",
              "    </tr>\n",
              "  </tbody>\n",
              "</table>\n",
              "</div>\n",
              "      <button class=\"colab-df-convert\" onclick=\"convertToInteractive('df-9b07354d-dea3-482c-a583-147b7085078a')\"\n",
              "              title=\"Convert this dataframe to an interactive table.\"\n",
              "              style=\"display:none;\">\n",
              "        \n",
              "  <svg xmlns=\"http://www.w3.org/2000/svg\" height=\"24px\"viewBox=\"0 0 24 24\"\n",
              "       width=\"24px\">\n",
              "    <path d=\"M0 0h24v24H0V0z\" fill=\"none\"/>\n",
              "    <path d=\"M18.56 5.44l.94 2.06.94-2.06 2.06-.94-2.06-.94-.94-2.06-.94 2.06-2.06.94zm-11 1L8.5 8.5l.94-2.06 2.06-.94-2.06-.94L8.5 2.5l-.94 2.06-2.06.94zm10 10l.94 2.06.94-2.06 2.06-.94-2.06-.94-.94-2.06-.94 2.06-2.06.94z\"/><path d=\"M17.41 7.96l-1.37-1.37c-.4-.4-.92-.59-1.43-.59-.52 0-1.04.2-1.43.59L10.3 9.45l-7.72 7.72c-.78.78-.78 2.05 0 2.83L4 21.41c.39.39.9.59 1.41.59.51 0 1.02-.2 1.41-.59l7.78-7.78 2.81-2.81c.8-.78.8-2.07 0-2.86zM5.41 20L4 18.59l7.72-7.72 1.47 1.35L5.41 20z\"/>\n",
              "  </svg>\n",
              "      </button>\n",
              "      \n",
              "  <style>\n",
              "    .colab-df-container {\n",
              "      display:flex;\n",
              "      flex-wrap:wrap;\n",
              "      gap: 12px;\n",
              "    }\n",
              "\n",
              "    .colab-df-convert {\n",
              "      background-color: #E8F0FE;\n",
              "      border: none;\n",
              "      border-radius: 50%;\n",
              "      cursor: pointer;\n",
              "      display: none;\n",
              "      fill: #1967D2;\n",
              "      height: 32px;\n",
              "      padding: 0 0 0 0;\n",
              "      width: 32px;\n",
              "    }\n",
              "\n",
              "    .colab-df-convert:hover {\n",
              "      background-color: #E2EBFA;\n",
              "      box-shadow: 0px 1px 2px rgba(60, 64, 67, 0.3), 0px 1px 3px 1px rgba(60, 64, 67, 0.15);\n",
              "      fill: #174EA6;\n",
              "    }\n",
              "\n",
              "    [theme=dark] .colab-df-convert {\n",
              "      background-color: #3B4455;\n",
              "      fill: #D2E3FC;\n",
              "    }\n",
              "\n",
              "    [theme=dark] .colab-df-convert:hover {\n",
              "      background-color: #434B5C;\n",
              "      box-shadow: 0px 1px 3px 1px rgba(0, 0, 0, 0.15);\n",
              "      filter: drop-shadow(0px 1px 2px rgba(0, 0, 0, 0.3));\n",
              "      fill: #FFFFFF;\n",
              "    }\n",
              "  </style>\n",
              "\n",
              "      <script>\n",
              "        const buttonEl =\n",
              "          document.querySelector('#df-9b07354d-dea3-482c-a583-147b7085078a button.colab-df-convert');\n",
              "        buttonEl.style.display =\n",
              "          google.colab.kernel.accessAllowed ? 'block' : 'none';\n",
              "\n",
              "        async function convertToInteractive(key) {\n",
              "          const element = document.querySelector('#df-9b07354d-dea3-482c-a583-147b7085078a');\n",
              "          const dataTable =\n",
              "            await google.colab.kernel.invokeFunction('convertToInteractive',\n",
              "                                                     [key], {});\n",
              "          if (!dataTable) return;\n",
              "\n",
              "          const docLinkHtml = 'Like what you see? Visit the ' +\n",
              "            '<a target=\"_blank\" href=https://colab.research.google.com/notebooks/data_table.ipynb>data table notebook</a>'\n",
              "            + ' to learn more about interactive tables.';\n",
              "          element.innerHTML = '';\n",
              "          dataTable['output_type'] = 'display_data';\n",
              "          await google.colab.output.renderOutput(dataTable, element);\n",
              "          const docLink = document.createElement('div');\n",
              "          docLink.innerHTML = docLinkHtml;\n",
              "          element.appendChild(docLink);\n",
              "        }\n",
              "      </script>\n",
              "    </div>\n",
              "  </div>\n",
              "  "
            ]
          },
          "metadata": {},
          "execution_count": 14
        }
      ]
    },
    {
      "cell_type": "code",
      "source": [
        "del combind_clean_df['Unnamed: 0']\n",
        "del combind_clean_df['Unnamed: 0.1']"
      ],
      "metadata": {
        "id": "HZBV4dBcXvPT"
      },
      "execution_count": null,
      "outputs": []
    },
    {
      "cell_type": "code",
      "source": [
        "thai_suvarnabhumi_df = clean_data(thai_suvarnabhumi_df)\n",
        "thai_don_muang_df = clean_data(thai_don_muang_df)\n",
        "\n",
        "del thai_suvarnabhumi_df['Unnamed: 0']\n",
        "del thai_don_muang_df['Unnamed: 0']"
      ],
      "metadata": {
        "id": "kpB1j1hhX2EX"
      },
      "execution_count": null,
      "outputs": []
    },
    {
      "cell_type": "code",
      "source": [
        "nltk.download('omw-1.4')\n",
        "\n",
        "def lemmaWords(words):\n",
        "    lst = []\n",
        "    lemmatiser = WordNetLemmatizer()\n",
        "    for word in words:\n",
        "        lst.append(lemmatiser.lemmatize(word, pos='v'))\n",
        "    return lst"
      ],
      "metadata": {
        "colab": {
          "base_uri": "https://localhost:8080/"
        },
        "id": "1BQOu_-Plqil",
        "outputId": "d703ea7a-e92c-4d06-9aec-11a287962a96"
      },
      "execution_count": null,
      "outputs": [
        {
          "output_type": "stream",
          "name": "stderr",
          "text": [
            "[nltk_data] Downloading package omw-1.4 to /root/nltk_data...\n",
            "[nltk_data]   Package omw-1.4 is already up-to-date!\n"
          ]
        }
      ]
    },
    {
      "cell_type": "code",
      "source": [
        "combind_clean_df['review_token'] = combind_clean_df.apply(lambda row: nltk.word_tokenize(row['review_punctuation']), axis=1)\n",
        "combind_clean_df['review_token'] = combind_clean_df['review_token'].map(lambda x: lemmaWords(x))\n",
        "del combind_clean_df[\"review_expand\"]\n",
        "del combind_clean_df[\"review_clear\"]\n",
        "del combind_clean_df[\"review_punctuation\"]"
      ],
      "metadata": {
        "id": "hFPzyU9LapAU"
      },
      "execution_count": null,
      "outputs": []
    },
    {
      "cell_type": "code",
      "source": [
        "thai_suvarnabhumi_df['review_token'] = thai_suvarnabhumi_df.apply(lambda row: nltk.word_tokenize(row['review_punctuation']), axis=1)\n",
        "thai_suvarnabhumi_df['review_token'] = thai_suvarnabhumi_df['review_token'].map(lambda x: lemmaWords(x))\n",
        "\n",
        "del thai_suvarnabhumi_df[\"review_expand\"]\n",
        "del thai_suvarnabhumi_df[\"review_clear\"]\n",
        "del thai_suvarnabhumi_df[\"review_punctuation\"]"
      ],
      "metadata": {
        "id": "irgVKLwxbzfT"
      },
      "execution_count": null,
      "outputs": []
    },
    {
      "cell_type": "code",
      "source": [
        "thai_don_muang_df['review_token'] = thai_don_muang_df.apply(lambda row: nltk.word_tokenize(row['review_punctuation']), axis=1)\n",
        "thai_don_muang_df['review_token'] = thai_don_muang_df['review_token'].map(lambda x: lemmaWords(x))\n",
        "\n",
        "del thai_don_muang_df[\"review_expand\"]\n",
        "del thai_don_muang_df[\"review_clear\"]\n",
        "del thai_don_muang_df[\"review_punctuation\"]"
      ],
      "metadata": {
        "id": "OlX0mYe3bzn3"
      },
      "execution_count": null,
      "outputs": []
    },
    {
      "cell_type": "code",
      "source": [
        "combind_data = combind_clean_df.to_numpy()"
      ],
      "metadata": {
        "id": "Wy95IgdobKnD"
      },
      "execution_count": null,
      "outputs": []
    },
    {
      "cell_type": "code",
      "source": [
        "thai_suvarnabhumi_data = thai_suvarnabhumi_df.to_numpy()"
      ],
      "metadata": {
        "id": "SA7XBX2Eb06l"
      },
      "execution_count": null,
      "outputs": []
    },
    {
      "cell_type": "code",
      "source": [
        "thai_don_muang_data = thai_don_muang_df.to_numpy()"
      ],
      "metadata": {
        "id": "cn9QsMgUb1C0"
      },
      "execution_count": null,
      "outputs": []
    },
    {
      "cell_type": "code",
      "source": [
        "tokenizer = Tokenizer()\n",
        "tokenizer.fit_on_texts(combind_data[:,2])"
      ],
      "metadata": {
        "id": "Vxsalh_7binu"
      },
      "execution_count": null,
      "outputs": []
    },
    {
      "cell_type": "code",
      "source": [
        "len(tokenizer.index_word)"
      ],
      "metadata": {
        "colab": {
          "base_uri": "https://localhost:8080/"
        },
        "id": "kCfHE6iBmjmg",
        "outputId": "25b60610-19dd-4ee1-fbbb-c3f0e7fe9500"
      },
      "execution_count": null,
      "outputs": [
        {
          "output_type": "execute_result",
          "data": {
            "text/plain": [
              "11520"
            ]
          },
          "metadata": {},
          "execution_count": 25
        }
      ]
    },
    {
      "cell_type": "code",
      "source": [
        "combind_tts = tokenizer.texts_to_sequences(combind_data[:,2])\n",
        "thai_suvarnabhumi_tts = tokenizer.texts_to_sequences(thai_suvarnabhumi_data[:,2])\n",
        "thai_don_muang_tts = tokenizer.texts_to_sequences(thai_don_muang_data[:,2])\n",
        "maxlen = max([len(s) for s in combind_tts])"
      ],
      "metadata": {
        "id": "NQ1295NXby65"
      },
      "execution_count": null,
      "outputs": []
    },
    {
      "cell_type": "code",
      "source": [
        "def get_tokenizer(tts, data):\n",
        "    x = pad_sequences(tts, maxlen=maxlen, padding=\"post\")\n",
        "    y = to_categorical([ int(i) for i in data[:,1]])\n",
        "    return x, y"
      ],
      "metadata": {
        "id": "GTsvKxa9YMzV"
      },
      "execution_count": null,
      "outputs": []
    },
    {
      "cell_type": "code",
      "source": [
        "combind_x, combind_y = get_tokenizer(combind_tts, combind_data)\n",
        "thai_suvarnabhumi_x, thai_suvarnabhumi_y = get_tokenizer(thai_suvarnabhumi_tts, thai_suvarnabhumi_data)\n",
        "thai_don_muang_x, thai_don_muang_y = get_tokenizer(thai_don_muang_tts, thai_don_muang_data)"
      ],
      "metadata": {
        "id": "CkySD3eyZHmW"
      },
      "execution_count": null,
      "outputs": []
    },
    {
      "cell_type": "markdown",
      "source": [
        "## **Train data with LSTM**"
      ],
      "metadata": {
        "id": "WOKtY0AUfUJl"
      }
    },
    {
      "cell_type": "markdown",
      "source": [
        "### How to learning data with LSTM"
      ],
      "metadata": {
        "id": "wK9alvFhflLi"
      }
    },
    {
      "cell_type": "code",
      "source": [
        "vocab_size = len(tokenizer.word_index) +1\n",
        "\n",
        "# Fix Random Weight\n",
        "# For reproducable\n",
        "np.random.seed(50)\n",
        "\n",
        "model = Sequential()\n",
        "model.add(Embedding(input_dim=vocab_size,\n",
        "                    output_dim=10,\n",
        "                    input_length=maxlen))\n",
        "\n",
        "model.add(Bidirectional(LSTM(16)))\n",
        "\n",
        "model.add(Dense(3, activation='relu'))\n",
        "model.add(Dense(2, activation='softmax'))\n",
        "model.compile(loss='categorical_crossentropy', optimizer='adam', metrics=['accuracy'])\n",
        "\n",
        "model.summary()\n",
        "\n",
        "history1 = model.fit(combind_x,combind_y, epochs=50)"
      ],
      "metadata": {
        "id": "KjS8hI8Q_vD2",
        "colab": {
          "base_uri": "https://localhost:8080/"
        },
        "outputId": "42a50274-7435-42ed-b4f0-29c18ca7075b"
      },
      "execution_count": null,
      "outputs": [
        {
          "output_type": "stream",
          "name": "stdout",
          "text": [
            "Model: \"sequential\"\n",
            "_________________________________________________________________\n",
            " Layer (type)                Output Shape              Param #   \n",
            "=================================================================\n",
            " embedding (Embedding)       (None, 375, 10)           115210    \n",
            "                                                                 \n",
            " bidirectional (Bidirectiona  (None, 32)               3456      \n",
            " l)                                                              \n",
            "                                                                 \n",
            " dense (Dense)               (None, 3)                 99        \n",
            "                                                                 \n",
            " dense_1 (Dense)             (None, 2)                 8         \n",
            "                                                                 \n",
            "=================================================================\n",
            "Total params: 118,773\n",
            "Trainable params: 118,773\n",
            "Non-trainable params: 0\n",
            "_________________________________________________________________\n",
            "Epoch 1/50\n",
            "189/189 [==============================] - 47s 206ms/step - loss: 0.5651 - accuracy: 0.7151\n",
            "Epoch 2/50\n",
            "189/189 [==============================] - 40s 212ms/step - loss: 0.3717 - accuracy: 0.8536\n",
            "Epoch 3/50\n",
            "189/189 [==============================] - 41s 216ms/step - loss: 0.2790 - accuracy: 0.8892\n",
            "Epoch 4/50\n",
            "189/189 [==============================] - 40s 212ms/step - loss: 0.2277 - accuracy: 0.9134\n",
            "Epoch 5/50\n",
            "189/189 [==============================] - 39s 206ms/step - loss: 0.1873 - accuracy: 0.9304\n",
            "Epoch 6/50\n",
            "189/189 [==============================] - 40s 212ms/step - loss: 0.1576 - accuracy: 0.9433\n",
            "Epoch 7/50\n",
            "189/189 [==============================] - 39s 204ms/step - loss: 0.1372 - accuracy: 0.9521\n",
            "Epoch 8/50\n",
            "189/189 [==============================] - 38s 202ms/step - loss: 0.1222 - accuracy: 0.9561\n",
            "Epoch 9/50\n",
            "189/189 [==============================] - 38s 203ms/step - loss: 0.1068 - accuracy: 0.9622\n",
            "Epoch 10/50\n",
            "189/189 [==============================] - 39s 204ms/step - loss: 0.0975 - accuracy: 0.9677\n",
            "Epoch 11/50\n",
            "189/189 [==============================] - 39s 204ms/step - loss: 0.0880 - accuracy: 0.9702\n",
            "Epoch 12/50\n",
            "189/189 [==============================] - 42s 221ms/step - loss: 0.0802 - accuracy: 0.9738\n",
            "Epoch 13/50\n",
            "189/189 [==============================] - 39s 205ms/step - loss: 0.0857 - accuracy: 0.9723\n",
            "Epoch 14/50\n",
            "189/189 [==============================] - 39s 208ms/step - loss: 0.0752 - accuracy: 0.9746\n",
            "Epoch 15/50\n",
            "189/189 [==============================] - 39s 205ms/step - loss: 0.0685 - accuracy: 0.9768\n",
            "Epoch 16/50\n",
            "189/189 [==============================] - 42s 225ms/step - loss: 0.0661 - accuracy: 0.9773\n",
            "Epoch 17/50\n",
            "189/189 [==============================] - 45s 240ms/step - loss: 0.0640 - accuracy: 0.9773\n",
            "Epoch 18/50\n",
            "189/189 [==============================] - 39s 204ms/step - loss: 0.0572 - accuracy: 0.9804\n",
            "Epoch 19/50\n",
            "189/189 [==============================] - 43s 230ms/step - loss: 0.0523 - accuracy: 0.9816\n",
            "Epoch 20/50\n",
            "189/189 [==============================] - 40s 209ms/step - loss: 0.0515 - accuracy: 0.9826\n",
            "Epoch 21/50\n",
            "189/189 [==============================] - 39s 206ms/step - loss: 0.0505 - accuracy: 0.9829\n",
            "Epoch 22/50\n",
            "189/189 [==============================] - 39s 205ms/step - loss: 0.0451 - accuracy: 0.9838\n",
            "Epoch 23/50\n",
            "189/189 [==============================] - 39s 204ms/step - loss: 0.0472 - accuracy: 0.9839\n",
            "Epoch 24/50\n",
            "189/189 [==============================] - 43s 229ms/step - loss: 0.0598 - accuracy: 0.9786\n",
            "Epoch 25/50\n",
            "189/189 [==============================] - 41s 217ms/step - loss: 0.0548 - accuracy: 0.9813\n",
            "Epoch 26/50\n",
            "189/189 [==============================] - 39s 207ms/step - loss: 0.0453 - accuracy: 0.9826\n",
            "Epoch 27/50\n",
            "189/189 [==============================] - 40s 210ms/step - loss: 0.0399 - accuracy: 0.9849\n",
            "Epoch 28/50\n",
            "189/189 [==============================] - 38s 203ms/step - loss: 0.0409 - accuracy: 0.9846\n",
            "Epoch 29/50\n",
            "189/189 [==============================] - 38s 202ms/step - loss: 0.0348 - accuracy: 0.9882\n",
            "Epoch 30/50\n",
            "189/189 [==============================] - 38s 203ms/step - loss: 0.0331 - accuracy: 0.9892\n",
            "Epoch 31/50\n",
            "189/189 [==============================] - 41s 216ms/step - loss: 0.0322 - accuracy: 0.9886\n",
            "Epoch 32/50\n",
            "189/189 [==============================] - 38s 204ms/step - loss: 0.0302 - accuracy: 0.9899\n",
            "Epoch 33/50\n",
            "189/189 [==============================] - 38s 202ms/step - loss: 0.0288 - accuracy: 0.9902\n",
            "Epoch 34/50\n",
            "189/189 [==============================] - 38s 201ms/step - loss: 0.0343 - accuracy: 0.9879\n",
            "Epoch 35/50\n",
            "189/189 [==============================] - 38s 201ms/step - loss: 0.0306 - accuracy: 0.9891\n",
            "Epoch 36/50\n",
            "189/189 [==============================] - 39s 206ms/step - loss: 0.0296 - accuracy: 0.9907\n",
            "Epoch 37/50\n",
            "189/189 [==============================] - 39s 206ms/step - loss: 0.0556 - accuracy: 0.9814\n",
            "Epoch 38/50\n",
            "189/189 [==============================] - 37s 198ms/step - loss: 0.0317 - accuracy: 0.9881\n",
            "Epoch 39/50\n",
            "189/189 [==============================] - 38s 199ms/step - loss: 0.0289 - accuracy: 0.9919\n",
            "Epoch 40/50\n",
            "189/189 [==============================] - 38s 199ms/step - loss: 0.0299 - accuracy: 0.9896\n",
            "Epoch 41/50\n",
            "189/189 [==============================] - 38s 201ms/step - loss: 0.0263 - accuracy: 0.9909\n",
            "Epoch 42/50\n",
            "189/189 [==============================] - 39s 205ms/step - loss: 0.0244 - accuracy: 0.9917\n",
            "Epoch 43/50\n",
            "189/189 [==============================] - 40s 211ms/step - loss: 0.0241 - accuracy: 0.9912\n",
            "Epoch 44/50\n",
            "189/189 [==============================] - 38s 203ms/step - loss: 0.0234 - accuracy: 0.9925\n",
            "Epoch 45/50\n",
            "189/189 [==============================] - 38s 203ms/step - loss: 0.0226 - accuracy: 0.9920\n",
            "Epoch 46/50\n",
            "189/189 [==============================] - 38s 202ms/step - loss: 0.0273 - accuracy: 0.9914\n",
            "Epoch 47/50\n",
            "189/189 [==============================] - 39s 205ms/step - loss: 0.0312 - accuracy: 0.9884\n",
            "Epoch 48/50\n",
            "189/189 [==============================] - 38s 203ms/step - loss: 0.0376 - accuracy: 0.9874\n",
            "Epoch 49/50\n",
            "189/189 [==============================] - 41s 219ms/step - loss: 0.0244 - accuracy: 0.9922\n",
            "Epoch 50/50\n",
            "189/189 [==============================] - 39s 205ms/step - loss: 0.0209 - accuracy: 0.9934\n"
          ]
        }
      ]
    },
    {
      "cell_type": "markdown",
      "source": [
        "### Test with training data (Manchester & London)"
      ],
      "metadata": {
        "id": "2r8VZGzufsRj"
      }
    },
    {
      "cell_type": "code",
      "source": [
        "combind_y_predict = model.predict(combind_x)\n",
        "\n",
        "combind_y_true = [np.argmax(i) for i in combind_y]\n",
        "combind_y_predict = [np.argmax(i) for i in combind_y_predict]\n",
        "cm = confusion_matrix(combind_y_true, combind_y_predict)"
      ],
      "metadata": {
        "id": "RtcbcKhugNcc",
        "colab": {
          "base_uri": "https://localhost:8080/"
        },
        "outputId": "4545b0dc-38ac-4337-eb45-43d9447f52bf"
      },
      "execution_count": null,
      "outputs": [
        {
          "output_type": "stream",
          "name": "stdout",
          "text": [
            "189/189 [==============================] - 8s 37ms/step\n"
          ]
        }
      ]
    },
    {
      "cell_type": "code",
      "source": [
        "sns.heatmap(cm, annot=True, fmt=\".0f\")"
      ],
      "metadata": {
        "id": "lD3ocwVSgxno",
        "colab": {
          "base_uri": "https://localhost:8080/",
          "height": 283
        },
        "outputId": "000b3461-51f3-4131-f6c7-6c27355e9e69"
      },
      "execution_count": null,
      "outputs": [
        {
          "output_type": "execute_result",
          "data": {
            "text/plain": [
              "<matplotlib.axes._subplots.AxesSubplot at 0x7f61b7d785d0>"
            ]
          },
          "metadata": {},
          "execution_count": 32
        },
        {
          "output_type": "display_data",
          "data": {
            "text/plain": [
              "<Figure size 432x288 with 2 Axes>"
            ],
            "image/png": "[encoded data removed]"
          },
          "metadata": {
            "needs_background": "light"
          }
        }
      ]
    },
    {
      "cell_type": "code",
      "source": [
        "accuracy_score(combind_y_true, combind_y_predict)"
      ],
      "metadata": {
        "colab": {
          "base_uri": "https://localhost:8080/"
        },
        "id": "dvPMddUw0Nd1",
        "outputId": "79df86ec-8062-4a51-b2fb-ea39dfe906c6"
      },
      "execution_count": null,
      "outputs": [
        {
          "output_type": "execute_result",
          "data": {
            "text/plain": [
              "0.9938650306748467"
            ]
          },
          "metadata": {},
          "execution_count": 33
        }
      ]
    },
    {
      "cell_type": "markdown",
      "source": [
        "### Test with testing data (Suvarnabhumi)"
      ],
      "metadata": {
        "id": "2GkzU9pRfx_w"
      }
    },
    {
      "cell_type": "code",
      "source": [
        "thai_suvarnabhumi_y_predict = model.predict(thai_suvarnabhumi_x)\n",
        "\n",
        "thai_suvarnabhumi_y_true = [np.argmax(i) for i in thai_suvarnabhumi_y]\n",
        "thai_suvarnabhumi_y_predict = [np.argmax(i) for i in thai_suvarnabhumi_y_predict]\n",
        "cm = confusion_matrix(thai_suvarnabhumi_y_true, thai_suvarnabhumi_y_predict)"
      ],
      "metadata": {
        "id": "KpcH4_CXiDHn",
        "colab": {
          "base_uri": "https://localhost:8080/"
        },
        "outputId": "bfbb7dcd-8f71-40b0-eaa3-f6d9ace97f06"
      },
      "execution_count": null,
      "outputs": [
        {
          "output_type": "stream",
          "name": "stdout",
          "text": [
            "14/14 [==============================] - 1s 37ms/step\n"
          ]
        }
      ]
    },
    {
      "cell_type": "code",
      "source": [
        "sns.heatmap(cm, annot=True, fmt=\".0f\")"
      ],
      "metadata": {
        "id": "W8xmKFvZiVmY",
        "colab": {
          "base_uri": "https://localhost:8080/",
          "height": 283
        },
        "outputId": "72c435fb-e633-4596-d5ce-caf378b6562f"
      },
      "execution_count": null,
      "outputs": [
        {
          "output_type": "execute_result",
          "data": {
            "text/plain": [
              "<matplotlib.axes._subplots.AxesSubplot at 0x7f61adb59cd0>"
            ]
          },
          "metadata": {},
          "execution_count": 35
        },
        {
          "output_type": "display_data",
          "data": {
            "text/plain": [
              "<Figure size 432x288 with 2 Axes>"
            ],
            "image/png": "[encoded data removed]"
          },
          "metadata": {
            "needs_background": "light"
          }
        }
      ]
    },
    {
      "cell_type": "code",
      "source": [
        "accuracy_score(thai_suvarnabhumi_y_true, thai_suvarnabhumi_y_predict)"
      ],
      "metadata": {
        "id": "S_9PdfDIihmQ",
        "colab": {
          "base_uri": "https://localhost:8080/"
        },
        "outputId": "5ec1baab-774f-4c7a-aae9-cad66d874a2c"
      },
      "execution_count": null,
      "outputs": [
        {
          "output_type": "execute_result",
          "data": {
            "text/plain": [
              "0.7089201877934272"
            ]
          },
          "metadata": {},
          "execution_count": 36
        }
      ]
    },
    {
      "cell_type": "markdown",
      "source": [
        "### Test with testing data (Don Muang)"
      ],
      "metadata": {
        "id": "uET_6ePbf2lc"
      }
    },
    {
      "cell_type": "code",
      "source": [
        "thai_don_muang_y_predict = model.predict(thai_don_muang_x)\n",
        "\n",
        "thai_don_muang_y_true = [np.argmax(i) for i in thai_don_muang_y]\n",
        "thai_don_muang_y_predict = [np.argmax(i) for i in thai_don_muang_y_predict]\n",
        "cm = confusion_matrix(thai_don_muang_y_true, thai_don_muang_y_predict)"
      ],
      "metadata": {
        "id": "j4JdW5jQissr",
        "colab": {
          "base_uri": "https://localhost:8080/"
        },
        "outputId": "60fb2850-41eb-401c-a14f-b5472e955886"
      },
      "execution_count": null,
      "outputs": [
        {
          "output_type": "stream",
          "name": "stdout",
          "text": [
            "4/4 [==============================] - 0s 34ms/step\n"
          ]
        }
      ]
    },
    {
      "cell_type": "code",
      "source": [
        "sns.heatmap(cm, annot=True, fmt=\".0f\")"
      ],
      "metadata": {
        "id": "oQ_cX7ygi3wL",
        "colab": {
          "base_uri": "https://localhost:8080/",
          "height": 283
        },
        "outputId": "8f4e3915-48f2-450d-aa54-ca0ac74dfacf"
      },
      "execution_count": null,
      "outputs": [
        {
          "output_type": "execute_result",
          "data": {
            "text/plain": [
              "<matplotlib.axes._subplots.AxesSubplot at 0x7f61adb05890>"
            ]
          },
          "metadata": {},
          "execution_count": 38
        },
        {
          "output_type": "display_data",
          "data": {
            "text/plain": [
              "<Figure size 432x288 with 2 Axes>"
            ],
            "image/png": "[encoded data removed]"
          },
          "metadata": {
            "needs_background": "light"
          }
        }
      ]
    },
    {
      "cell_type": "code",
      "source": [
        "accuracy_score(thai_don_muang_y_true, thai_don_muang_y_predict)"
      ],
      "metadata": {
        "id": "T_tveE-Qi6oM",
        "colab": {
          "base_uri": "https://localhost:8080/"
        },
        "outputId": "c78163fa-5388-4a3a-f682-94bc30ed970c"
      },
      "execution_count": null,
      "outputs": [
        {
          "output_type": "execute_result",
          "data": {
            "text/plain": [
              "0.7280701754385965"
            ]
          },
          "metadata": {},
          "execution_count": 39
        }
      ]
    },
    {
      "cell_type": "markdown",
      "source": [
        "## **Solve problem of imbalance data**"
      ],
      "metadata": {
        "id": "f1AVgDMYBMmb"
      }
    },
    {
      "cell_type": "markdown",
      "source": [
        "### Use imblearn library to solve imbalance data with SMOTE technique"
      ],
      "metadata": {
        "id": "ThUVJ2SFgGCw"
      }
    },
    {
      "cell_type": "code",
      "source": [
        "from imblearn.over_sampling import RandomOverSampler\n",
        "from sklearn.utils import shuffle"
      ],
      "metadata": {
        "id": "HcXy1xMABvP0"
      },
      "execution_count": null,
      "outputs": []
    },
    {
      "cell_type": "code",
      "source": [
        "def count_class(nums):\n",
        "    class_zero = np.array([1, 0])\n",
        "    count_zero = int((class_zero == nums).sum()/2)\n",
        "\n",
        "    class_one = np.array([0, 1])\n",
        "    count_one = int((class_one == nums).sum()/2)\n",
        "\n",
        "    print(f'0: {count_zero}, 1: {count_one}')     "
      ],
      "metadata": {
        "id": "zNwxPd-cDEEw"
      },
      "execution_count": null,
      "outputs": []
    },
    {
      "cell_type": "code",
      "source": [
        "count_class(combind_y)"
      ],
      "metadata": {
        "colab": {
          "base_uri": "https://localhost:8080/"
        },
        "id": "kYOsNehoEnmB",
        "outputId": "241efc50-26d3-43f9-ec5c-89328d7726a0"
      },
      "execution_count": null,
      "outputs": [
        {
          "output_type": "stream",
          "name": "stdout",
          "text": [
            "0: 4291, 1: 1740\n"
          ]
        }
      ]
    },
    {
      "cell_type": "code",
      "source": [
        "ROS = RandomOverSampler(random_state=125, sampling_strategy=1)"
      ],
      "metadata": {
        "id": "crHVgYkhEzNR"
      },
      "execution_count": null,
      "outputs": []
    },
    {
      "cell_type": "code",
      "source": [
        "x, y_sub = ROS.fit_resample(combind_x, combind_y)"
      ],
      "metadata": {
        "id": "GYTEIDkjEqnT"
      },
      "execution_count": null,
      "outputs": []
    },
    {
      "cell_type": "code",
      "source": [
        "y_sub"
      ],
      "metadata": {
        "colab": {
          "base_uri": "https://localhost:8080/"
        },
        "id": "xzkvKDR3MkW3",
        "outputId": "ad647ac8-b700-4f23-e988-9ef7f649f38e"
      },
      "execution_count": null,
      "outputs": [
        {
          "output_type": "execute_result",
          "data": {
            "text/plain": [
              "array([[0],\n",
              "       [0],\n",
              "       [0],\n",
              "       ...,\n",
              "       [1],\n",
              "       [1],\n",
              "       [1]])"
            ]
          },
          "metadata": {},
          "execution_count": 45
        }
      ]
    },
    {
      "cell_type": "code",
      "source": [
        "y = []\n",
        "\n",
        "for i in range(len(y_sub)):\n",
        "    if y_sub[i] == np.array([0]):\n",
        "        y.append([1, 0])\n",
        "    else:\n",
        "        y.append([0, 1])"
      ],
      "metadata": {
        "id": "4KB9npMXkAFL"
      },
      "execution_count": null,
      "outputs": []
    },
    {
      "cell_type": "code",
      "source": [
        "y = np.array(y)"
      ],
      "metadata": {
        "id": "IVHGYfK7mnkC"
      },
      "execution_count": null,
      "outputs": []
    },
    {
      "cell_type": "code",
      "source": [
        "y"
      ],
      "metadata": {
        "colab": {
          "base_uri": "https://localhost:8080/"
        },
        "id": "azjZdG-vmiyC",
        "outputId": "16a866eb-ffd8-469f-c3b0-972299d91d1a"
      },
      "execution_count": null,
      "outputs": [
        {
          "output_type": "execute_result",
          "data": {
            "text/plain": [
              "array([[1, 0],\n",
              "       [1, 0],\n",
              "       [1, 0],\n",
              "       ...,\n",
              "       [0, 1],\n",
              "       [0, 1],\n",
              "       [0, 1]])"
            ]
          },
          "metadata": {},
          "execution_count": 48
        }
      ]
    },
    {
      "cell_type": "code",
      "source": [
        "x, y = shuffle(x, y, random_state=500)"
      ],
      "metadata": {
        "id": "EZb_6sgvIfdv"
      },
      "execution_count": null,
      "outputs": []
    },
    {
      "cell_type": "code",
      "source": [
        "count_class(y)"
      ],
      "metadata": {
        "colab": {
          "base_uri": "https://localhost:8080/"
        },
        "id": "tkmKA2GZE37w",
        "outputId": "e75c8985-6fd8-49a2-b83a-49ed29860b6f"
      },
      "execution_count": null,
      "outputs": [
        {
          "output_type": "stream",
          "name": "stdout",
          "text": [
            "0: 4291, 1: 4291\n"
          ]
        }
      ]
    },
    {
      "cell_type": "markdown",
      "source": [
        "### Learn again with LSTM"
      ],
      "metadata": {
        "id": "yzE9irwZgRdf"
      }
    },
    {
      "cell_type": "code",
      "source": [
        "#LSTM\n",
        "vocab_size = len(tokenizer.word_index) +1\n",
        "\n",
        "np.random.seed(300)\n",
        "\n",
        "lstm_model = Sequential()\n",
        "lstm_model.add(Embedding(input_dim=vocab_size,\n",
        "                    output_dim=10,\n",
        "                    input_length=maxlen))\n",
        "\n",
        "lstm_model.add(Bidirectional(LSTM(16)))\n",
        "\n",
        "lstm_model.add(Dense(3, activation='relu'))\n",
        "lstm_model.add(Dense(2, activation='softmax'))\n",
        "lstm_model.compile(loss='categorical_crossentropy', optimizer='adam', metrics=['accuracy'])\n",
        "\n",
        "lstm_model.summary()\n",
        "\n",
        "history1 = lstm_model.fit(x,y, epochs=50)"
      ],
      "metadata": {
        "colab": {
          "base_uri": "https://localhost:8080/"
        },
        "id": "skRjoERPKaAt",
        "outputId": "f4b673d1-ff6a-4a6e-85c9-953fb4399b9a"
      },
      "execution_count": null,
      "outputs": [
        {
          "output_type": "stream",
          "name": "stdout",
          "text": [
            "Model: \"sequential_1\"\n",
            "_________________________________________________________________\n",
            " Layer (type)                Output Shape              Param #   \n",
            "=================================================================\n",
            " embedding_1 (Embedding)     (None, 375, 10)           115210    \n",
            "                                                                 \n",
            " bidirectional_1 (Bidirectio  (None, 32)               3456      \n",
            " nal)                                                            \n",
            "                                                                 \n",
            " dense_2 (Dense)             (None, 3)                 99        \n",
            "                                                                 \n",
            " dense_3 (Dense)             (None, 2)                 8         \n",
            "                                                                 \n",
            "=================================================================\n",
            "Total params: 118,773\n",
            "Trainable params: 118,773\n",
            "Non-trainable params: 0\n",
            "_________________________________________________________________\n",
            "Epoch 1/50\n",
            "269/269 [==============================] - 60s 206ms/step - loss: 0.4737 - accuracy: 0.7699\n",
            "Epoch 2/50\n",
            "269/269 [==============================] - 55s 206ms/step - loss: 0.2502 - accuracy: 0.9067\n",
            "Epoch 3/50\n",
            "269/269 [==============================] - 55s 205ms/step - loss: 0.1682 - accuracy: 0.9395\n",
            "Epoch 4/50\n",
            "269/269 [==============================] - 56s 209ms/step - loss: 0.1186 - accuracy: 0.9617\n",
            "Epoch 5/50\n",
            "269/269 [==============================] - 57s 210ms/step - loss: 0.1025 - accuracy: 0.9659\n",
            "Epoch 6/50\n",
            "269/269 [==============================] - 55s 205ms/step - loss: 0.0843 - accuracy: 0.9730\n",
            "Epoch 7/50\n",
            "269/269 [==============================] - 55s 206ms/step - loss: 0.0659 - accuracy: 0.9805\n",
            "Epoch 8/50\n",
            "269/269 [==============================] - 56s 208ms/step - loss: 0.0604 - accuracy: 0.9819\n",
            "Epoch 9/50\n",
            "269/269 [==============================] - 55s 205ms/step - loss: 0.0545 - accuracy: 0.9838\n",
            "Epoch 10/50\n",
            "269/269 [==============================] - 58s 214ms/step - loss: 0.0560 - accuracy: 0.9823\n",
            "Epoch 11/50\n",
            "269/269 [==============================] - 55s 204ms/step - loss: 0.0440 - accuracy: 0.9866\n",
            "Epoch 12/50\n",
            "269/269 [==============================] - 55s 204ms/step - loss: 0.0412 - accuracy: 0.9894\n",
            "Epoch 13/50\n",
            "269/269 [==============================] - 55s 206ms/step - loss: 0.0361 - accuracy: 0.9901\n",
            "Epoch 14/50\n",
            "269/269 [==============================] - 55s 205ms/step - loss: 0.0316 - accuracy: 0.9916\n",
            "Epoch 15/50\n",
            "269/269 [==============================] - 56s 207ms/step - loss: 0.0281 - accuracy: 0.9923\n",
            "Epoch 16/50\n",
            "269/269 [==============================] - 58s 217ms/step - loss: 0.0277 - accuracy: 0.9927\n",
            "Epoch 17/50\n",
            "269/269 [==============================] - 55s 206ms/step - loss: 0.0285 - accuracy: 0.9914\n",
            "Epoch 18/50\n",
            "269/269 [==============================] - 58s 217ms/step - loss: 0.0298 - accuracy: 0.9911\n",
            "Epoch 19/50\n",
            "269/269 [==============================] - 57s 212ms/step - loss: 0.0416 - accuracy: 0.9874\n",
            "Epoch 20/50\n",
            "269/269 [==============================] - 57s 211ms/step - loss: 0.0291 - accuracy: 0.9917\n",
            "Epoch 21/50\n",
            "269/269 [==============================] - 57s 211ms/step - loss: 0.0249 - accuracy: 0.9930\n",
            "Epoch 22/50\n",
            "269/269 [==============================] - 60s 222ms/step - loss: 0.0225 - accuracy: 0.9936\n",
            "Epoch 23/50\n",
            "269/269 [==============================] - 56s 209ms/step - loss: 0.0218 - accuracy: 0.9939\n",
            "Epoch 24/50\n",
            "269/269 [==============================] - 55s 203ms/step - loss: 0.0200 - accuracy: 0.9944\n",
            "Epoch 25/50\n",
            "269/269 [==============================] - 54s 201ms/step - loss: 0.0482 - accuracy: 0.9866\n",
            "Epoch 26/50\n",
            "269/269 [==============================] - 54s 203ms/step - loss: 0.0546 - accuracy: 0.9808\n",
            "Epoch 27/50\n",
            "269/269 [==============================] - 57s 213ms/step - loss: 0.0227 - accuracy: 0.9937\n",
            "Epoch 28/50\n",
            "269/269 [==============================] - 54s 202ms/step - loss: 0.0191 - accuracy: 0.9945\n",
            "Epoch 29/50\n",
            "269/269 [==============================] - 54s 201ms/step - loss: 0.0192 - accuracy: 0.9944\n",
            "Epoch 30/50\n",
            "269/269 [==============================] - 54s 201ms/step - loss: 0.0179 - accuracy: 0.9952\n",
            "Epoch 31/50\n",
            "269/269 [==============================] - 54s 203ms/step - loss: 0.0187 - accuracy: 0.9942\n",
            "Epoch 32/50\n",
            "269/269 [==============================] - 56s 210ms/step - loss: 0.0179 - accuracy: 0.9949\n",
            "Epoch 33/50\n",
            "269/269 [==============================] - 56s 207ms/step - loss: 0.0168 - accuracy: 0.9956\n",
            "Epoch 34/50\n",
            "269/269 [==============================] - 55s 203ms/step - loss: 0.0160 - accuracy: 0.9955\n",
            "Epoch 35/50\n",
            "269/269 [==============================] - 55s 203ms/step - loss: 0.0156 - accuracy: 0.9952\n",
            "Epoch 36/50\n",
            "269/269 [==============================] - 54s 201ms/step - loss: 0.0155 - accuracy: 0.9953\n",
            "Epoch 37/50\n",
            "269/269 [==============================] - 57s 212ms/step - loss: 0.0138 - accuracy: 0.9963\n",
            "Epoch 38/50\n",
            "269/269 [==============================] - 55s 205ms/step - loss: 0.0155 - accuracy: 0.9949\n",
            "Epoch 39/50\n",
            "269/269 [==============================] - 56s 208ms/step - loss: 0.0161 - accuracy: 0.9950\n",
            "Epoch 40/50\n",
            "269/269 [==============================] - 56s 208ms/step - loss: 0.0318 - accuracy: 0.9908\n",
            "Epoch 41/50\n",
            "269/269 [==============================] - 60s 223ms/step - loss: 0.0167 - accuracy: 0.9946\n",
            "Epoch 42/50\n",
            "269/269 [==============================] - 56s 208ms/step - loss: 0.0186 - accuracy: 0.9942\n",
            "Epoch 43/50\n",
            "269/269 [==============================] - 55s 206ms/step - loss: 0.0176 - accuracy: 0.9939\n",
            "Epoch 44/50\n",
            "269/269 [==============================] - 55s 205ms/step - loss: 0.0137 - accuracy: 0.9959\n",
            "Epoch 45/50\n",
            "269/269 [==============================] - 59s 220ms/step - loss: 0.0122 - accuracy: 0.9969\n",
            "Epoch 46/50\n",
            "269/269 [==============================] - 56s 206ms/step - loss: 0.0121 - accuracy: 0.9966\n",
            "Epoch 47/50\n",
            "269/269 [==============================] - 56s 209ms/step - loss: 0.0111 - accuracy: 0.9967\n",
            "Epoch 48/50\n",
            "269/269 [==============================] - 57s 210ms/step - loss: 0.0146 - accuracy: 0.9959\n",
            "Epoch 49/50\n",
            "269/269 [==============================] - 60s 224ms/step - loss: 0.0111 - accuracy: 0.9967\n",
            "Epoch 50/50\n",
            "269/269 [==============================] - 56s 209ms/step - loss: 0.0112 - accuracy: 0.9965\n"
          ]
        }
      ]
    },
    {
      "cell_type": "markdown",
      "source": [
        "### Test with training data (Manchester & London)"
      ],
      "metadata": {
        "id": "xG2As7rUggSj"
      }
    },
    {
      "cell_type": "code",
      "source": [
        "y_predict = lstm_model.predict(x)\n",
        "\n",
        "y_true = [np.argmax(i) for i in y]\n",
        "y_predict = [np.argmax(i) for i in y_predict]\n",
        "cm = confusion_matrix(y_true, y_predict)"
      ],
      "metadata": {
        "colab": {
          "base_uri": "https://localhost:8080/"
        },
        "id": "japE5IHBLjZ8",
        "outputId": "28f5c315-7e31-4736-ce17-44c8c5b28ceb"
      },
      "execution_count": null,
      "outputs": [
        {
          "output_type": "stream",
          "name": "stdout",
          "text": [
            "269/269 [==============================] - 10s 39ms/step\n"
          ]
        }
      ]
    },
    {
      "cell_type": "code",
      "source": [
        "sns.heatmap(cm, annot=True, fmt=\".0f\")"
      ],
      "metadata": {
        "colab": {
          "base_uri": "https://localhost:8080/",
          "height": 283
        },
        "id": "Rv1_Fx2j7xWJ",
        "outputId": "78982a10-1ea4-42bf-fb12-a859af6b8b62"
      },
      "execution_count": null,
      "outputs": [
        {
          "output_type": "execute_result",
          "data": {
            "text/plain": [
              "<matplotlib.axes._subplots.AxesSubplot at 0x7f61a3a0b090>"
            ]
          },
          "metadata": {},
          "execution_count": 79
        },
        {
          "output_type": "display_data",
          "data": {
            "text/plain": [
              "<Figure size 432x288 with 2 Axes>"
            ],
            "image/png": "[encoded data removed]"
          },
          "metadata": {
            "needs_background": "light"
          }
        }
      ]
    },
    {
      "cell_type": "code",
      "source": [
        "print(\"Accuracy of training data is {:.2f}%\".format(accuracy_score(y_true, y_predict)*100))"
      ],
      "metadata": {
        "colab": {
          "base_uri": "https://localhost:8080/"
        },
        "id": "0VgaMkc128JU",
        "outputId": "4a7505f5-3fcc-499a-dc65-f670c9c6f778"
      },
      "execution_count": null,
      "outputs": [
        {
          "output_type": "stream",
          "name": "stdout",
          "text": [
            "Accuracy of training data is 99.78%\n"
          ]
        }
      ]
    },
    {
      "cell_type": "markdown",
      "source": [
        "### Test with tesing data (Suvarnabhumi)"
      ],
      "metadata": {
        "id": "Nwk5-IuBgiIQ"
      }
    },
    {
      "cell_type": "code",
      "source": [
        "thai_suvarnabhumi_y_predict = lstm_model.predict(thai_suvarnabhumi_x)\n",
        "\n",
        "thai_suvarnabhumi_y_true = [np.argmax(i) for i in thai_suvarnabhumi_y]\n",
        "thai_suvarnabhumi_y_predict = [np.argmax(i) for i in thai_suvarnabhumi_y_predict]\n",
        "thai_suvarnabhumi_cm = confusion_matrix(thai_suvarnabhumi_y_true, thai_suvarnabhumi_y_predict)"
      ],
      "metadata": {
        "colab": {
          "base_uri": "https://localhost:8080/"
        },
        "id": "KwGdlx083CcH",
        "outputId": "e11b7c14-17a9-4530-e5e4-d5db1288fa56"
      },
      "execution_count": null,
      "outputs": [
        {
          "output_type": "stream",
          "name": "stdout",
          "text": [
            "14/14 [==============================] - 1s 38ms/step\n"
          ]
        }
      ]
    },
    {
      "cell_type": "code",
      "source": [
        "sns.heatmap(thai_suvarnabhumi_cm, annot=True, fmt=\".0f\")"
      ],
      "metadata": {
        "colab": {
          "base_uri": "https://localhost:8080/",
          "height": 283
        },
        "id": "DElfZKlZ3GAy",
        "outputId": "006b927a-83b2-4145-f647-2e12fe5d2b79"
      },
      "execution_count": null,
      "outputs": [
        {
          "output_type": "execute_result",
          "data": {
            "text/plain": [
              "<matplotlib.axes._subplots.AxesSubplot at 0x7f61a3bb3450>"
            ]
          },
          "metadata": {},
          "execution_count": 83
        },
        {
          "output_type": "display_data",
          "data": {
            "text/plain": [
              "<Figure size 432x288 with 2 Axes>"
            ],
            "image/png": "[encoded data removed]"
          },
          "metadata": {
            "needs_background": "light"
          }
        }
      ]
    },
    {
      "cell_type": "code",
      "source": [
        "print(\"Accuracy of Suvarnabhumi is {:.2f}%\".format(accuracy_score(thai_suvarnabhumi_y_true, thai_suvarnabhumi_y_predict)*100))"
      ],
      "metadata": {
        "colab": {
          "base_uri": "https://localhost:8080/"
        },
        "id": "1oUYWkRX3JHA",
        "outputId": "69b57483-8bab-4318-950e-7f2a5dc35fde"
      },
      "execution_count": null,
      "outputs": [
        {
          "output_type": "stream",
          "name": "stdout",
          "text": [
            "Accuracy of Suvarnabhumi is 70.89%\n"
          ]
        }
      ]
    },
    {
      "cell_type": "markdown",
      "source": [
        "### Test with tesing data (Don muang)"
      ],
      "metadata": {
        "id": "Wq5LLbrsgqH9"
      }
    },
    {
      "cell_type": "code",
      "source": [
        "thai_don_muang_y_predict = lstm_model.predict(thai_don_muang_x)\n",
        "\n",
        "thai_don_muang_y_true = [np.argmax(i) for i in thai_don_muang_y]\n",
        "thai_don_muang_y_predict = [np.argmax(i) for i in thai_don_muang_y_predict]\n",
        "thai_don_muang_cm = confusion_matrix(thai_don_muang_y_true, thai_don_muang_y_predict)"
      ],
      "metadata": {
        "colab": {
          "base_uri": "https://localhost:8080/"
        },
        "id": "sVLoxDoq3OJU",
        "outputId": "01e6fe64-ce7a-48b4-e9fd-9d8278e3198c"
      },
      "execution_count": null,
      "outputs": [
        {
          "output_type": "stream",
          "name": "stdout",
          "text": [
            "4/4 [==============================] - 0s 35ms/step\n"
          ]
        }
      ]
    },
    {
      "cell_type": "code",
      "source": [
        "sns.heatmap(thai_don_muang_cm, annot=True, fmt=\".0f\")"
      ],
      "metadata": {
        "colab": {
          "base_uri": "https://localhost:8080/",
          "height": 283
        },
        "id": "sz5aeslQ3R3d",
        "outputId": "b42ab4b1-e7fb-4720-b0cb-62272b1930fe"
      },
      "execution_count": null,
      "outputs": [
        {
          "output_type": "execute_result",
          "data": {
            "text/plain": [
              "<matplotlib.axes._subplots.AxesSubplot at 0x7f61a3d69650>"
            ]
          },
          "metadata": {},
          "execution_count": 86
        },
        {
          "output_type": "display_data",
          "data": {
            "text/plain": [
              "<Figure size 432x288 with 2 Axes>"
            ],
            "image/png": "[encoded data removed]"
          },
          "metadata": {
            "needs_background": "light"
          }
        }
      ]
    },
    {
      "cell_type": "code",
      "source": [
        "print(\"Accuracy of Don Muang is {:.2f}%\".format(accuracy_score(thai_don_muang_y_true, thai_don_muang_y_predict)*100))"
      ],
      "metadata": {
        "colab": {
          "base_uri": "https://localhost:8080/"
        },
        "id": "axtyShpu3VFL",
        "outputId": "71f1641e-92c2-4006-8e2c-69a847f856b8"
      },
      "execution_count": null,
      "outputs": [
        {
          "output_type": "stream",
          "name": "stdout",
          "text": [
            "Accuracy of Suvarnabhumi is 75.44%\n"
          ]
        }
      ]
    },
    {
      "cell_type": "code",
      "source": [
        "pickle.dump(lstm_model, open('lstm2.sav', 'wb'))"
      ],
      "metadata": {
        "colab": {
          "base_uri": "https://localhost:8080/"
        },
        "id": "oZ22IzMPdbXJ",
        "outputId": "5b749ac1-6b9d-42d0-e3b2-47ba76dfcbe3"
      },
      "execution_count": null,
      "outputs": [
        {
          "output_type": "stream",
          "name": "stderr",
          "text": [
            "WARNING:absl:Found untraced functions such as lstm_cell_4_layer_call_fn, lstm_cell_4_layer_call_and_return_conditional_losses, lstm_cell_5_layer_call_fn, lstm_cell_5_layer_call_and_return_conditional_losses while saving (showing 4 of 4). These functions will not be directly callable after loading.\n"
          ]
        }
      ]
    },
    {
      "cell_type": "markdown",
      "source": [
        "## **Visualize answer**"
      ],
      "metadata": {
        "id": "ZGc24ouzqVxx"
      }
    },
    {
      "cell_type": "markdown",
      "source": [
        "### Answer of airport"
      ],
      "metadata": {
        "id": "AOi4Qq3yqZst"
      }
    },
    {
      "cell_type": "code",
      "source": [
        "thai_suvarnabhumi_neg = thai_suvarnabhumi_cm[0][0]\n",
        "thai_suvarnabhumi_pos = thai_suvarnabhumi_cm[1][1]\n",
        "\n",
        "thai_don_muang_neg = thai_don_muang_cm[0][0]\n",
        "thai_don_muang_pos = thai_don_muang_cm[1][1]\n",
        "\n",
        "thai_suvarnabhumi_answers = thai_suvarnabhumi_pos + thai_suvarnabhumi_neg\n",
        "thai_don_muang_answers = thai_don_muang_pos + thai_don_muang_neg\n",
        "\n",
        "d = {\"airport\":[\"Suvarnabhumi (70.89%)\", \"Don Muang (75.44%)\"] ,\"Positive\": [thai_suvarnabhumi_pos, thai_don_muang_pos], \"Negative\": [thai_suvarnabhumi_neg, thai_don_muang_neg]}\n",
        "\n",
        "summary_df = pd.DataFrame(d)\n",
        "summary_df.set_index('airport', inplace=True)"
      ],
      "metadata": {
        "id": "PCuqyOcTeoOM"
      },
      "execution_count": null,
      "outputs": []
    },
    {
      "cell_type": "code",
      "source": [
        "summary_df"
      ],
      "metadata": {
        "colab": {
          "base_uri": "https://localhost:8080/",
          "height": 143
        },
        "id": "Ideffp_ulGp8",
        "outputId": "13b30b2a-65ea-4323-b9d0-d62f8d74651e"
      },
      "execution_count": null,
      "outputs": [
        {
          "output_type": "execute_result",
          "data": {
            "text/plain": [
              "                       Positive  Negative\n",
              "airport                                  \n",
              "Suvarnabhumi (70.89%)        72       230\n",
              "Don Muang (75.44%)           24        62"
            ],
            "text/html": [
              "\n",
              "  <div id=\"df-7763d0e5-dff7-48b0-be4d-568dea59814f\">\n",
              "    <div class=\"colab-df-container\">\n",
              "      <div>\n",
              "<style scoped>\n",
              "    .dataframe tbody tr th:only-of-type {\n",
              "        vertical-align: middle;\n",
              "    }\n",
              "\n",
              "    .dataframe tbody tr th {\n",
              "        vertical-align: top;\n",
              "    }\n",
              "\n",
              "    .dataframe thead th {\n",
              "        text-align: right;\n",
              "    }\n",
              "</style>\n",
              "<table border=\"1\" class=\"dataframe\">\n",
              "  <thead>\n",
              "    <tr style=\"text-align: right;\">\n",
              "      <th></th>\n",
              "      <th>Positive</th>\n",
              "      <th>Negative</th>\n",
              "    </tr>\n",
              "    <tr>\n",
              "      <th>airport</th>\n",
              "      <th></th>\n",
              "      <th></th>\n",
              "    </tr>\n",
              "  </thead>\n",
              "  <tbody>\n",
              "    <tr>\n",
              "      <th>Suvarnabhumi (70.89%)</th>\n",
              "      <td>72</td>\n",
              "      <td>230</td>\n",
              "    </tr>\n",
              "    <tr>\n",
              "      <th>Don Muang (75.44%)</th>\n",
              "      <td>24</td>\n",
              "      <td>62</td>\n",
              "    </tr>\n",
              "  </tbody>\n",
              "</table>\n",
              "</div>\n",
              "      <button class=\"colab-df-convert\" onclick=\"convertToInteractive('df-7763d0e5-dff7-48b0-be4d-568dea59814f')\"\n",
              "              title=\"Convert this dataframe to an interactive table.\"\n",
              "              style=\"display:none;\">\n",
              "        \n",
              "  <svg xmlns=\"http://www.w3.org/2000/svg\" height=\"24px\"viewBox=\"0 0 24 24\"\n",
              "       width=\"24px\">\n",
              "    <path d=\"M0 0h24v24H0V0z\" fill=\"none\"/>\n",
              "    <path d=\"M18.56 5.44l.94 2.06.94-2.06 2.06-.94-2.06-.94-.94-2.06-.94 2.06-2.06.94zm-11 1L8.5 8.5l.94-2.06 2.06-.94-2.06-.94L8.5 2.5l-.94 2.06-2.06.94zm10 10l.94 2.06.94-2.06 2.06-.94-2.06-.94-.94-2.06-.94 2.06-2.06.94z\"/><path d=\"M17.41 7.96l-1.37-1.37c-.4-.4-.92-.59-1.43-.59-.52 0-1.04.2-1.43.59L10.3 9.45l-7.72 7.72c-.78.78-.78 2.05 0 2.83L4 21.41c.39.39.9.59 1.41.59.51 0 1.02-.2 1.41-.59l7.78-7.78 2.81-2.81c.8-.78.8-2.07 0-2.86zM5.41 20L4 18.59l7.72-7.72 1.47 1.35L5.41 20z\"/>\n",
              "  </svg>\n",
              "      </button>\n",
              "      \n",
              "  <style>\n",
              "    .colab-df-container {\n",
              "      display:flex;\n",
              "      flex-wrap:wrap;\n",
              "      gap: 12px;\n",
              "    }\n",
              "\n",
              "    .colab-df-convert {\n",
              "      background-color: #E8F0FE;\n",
              "      border: none;\n",
              "      border-radius: 50%;\n",
              "      cursor: pointer;\n",
              "      display: none;\n",
              "      fill: #1967D2;\n",
              "      height: 32px;\n",
              "      padding: 0 0 0 0;\n",
              "      width: 32px;\n",
              "    }\n",
              "\n",
              "    .colab-df-convert:hover {\n",
              "      background-color: #E2EBFA;\n",
              "      box-shadow: 0px 1px 2px rgba(60, 64, 67, 0.3), 0px 1px 3px 1px rgba(60, 64, 67, 0.15);\n",
              "      fill: #174EA6;\n",
              "    }\n",
              "\n",
              "    [theme=dark] .colab-df-convert {\n",
              "      background-color: #3B4455;\n",
              "      fill: #D2E3FC;\n",
              "    }\n",
              "\n",
              "    [theme=dark] .colab-df-convert:hover {\n",
              "      background-color: #434B5C;\n",
              "      box-shadow: 0px 1px 3px 1px rgba(0, 0, 0, 0.15);\n",
              "      filter: drop-shadow(0px 1px 2px rgba(0, 0, 0, 0.3));\n",
              "      fill: #FFFFFF;\n",
              "    }\n",
              "  </style>\n",
              "\n",
              "      <script>\n",
              "        const buttonEl =\n",
              "          document.querySelector('#df-7763d0e5-dff7-48b0-be4d-568dea59814f button.colab-df-convert');\n",
              "        buttonEl.style.display =\n",
              "          google.colab.kernel.accessAllowed ? 'block' : 'none';\n",
              "\n",
              "        async function convertToInteractive(key) {\n",
              "          const element = document.querySelector('#df-7763d0e5-dff7-48b0-be4d-568dea59814f');\n",
              "          const dataTable =\n",
              "            await google.colab.kernel.invokeFunction('convertToInteractive',\n",
              "                                                     [key], {});\n",
              "          if (!dataTable) return;\n",
              "\n",
              "          const docLinkHtml = 'Like what you see? Visit the ' +\n",
              "            '<a target=\"_blank\" href=https://colab.research.google.com/notebooks/data_table.ipynb>data table notebook</a>'\n",
              "            + ' to learn more about interactive tables.';\n",
              "          element.innerHTML = '';\n",
              "          dataTable['output_type'] = 'display_data';\n",
              "          await google.colab.output.renderOutput(dataTable, element);\n",
              "          const docLink = document.createElement('div');\n",
              "          docLink.innerHTML = docLinkHtml;\n",
              "          element.appendChild(docLink);\n",
              "        }\n",
              "      </script>\n",
              "    </div>\n",
              "  </div>\n",
              "  "
            ]
          },
          "metadata": {},
          "execution_count": 122
        }
      ]
    },
    {
      "cell_type": "markdown",
      "source": [
        "### Normalization"
      ],
      "metadata": {
        "id": "HUVuXHFjqdwg"
      }
    },
    {
      "cell_type": "code",
      "source": [
        "d = {\"airport\":[\"Suvarnabhumi (70.89%)\", \"Don Muang (75.44%)\"] ,\"Positive\": [thai_suvarnabhumi_pos/thai_suvarnabhumi_answers, thai_don_muang_pos/thai_don_muang_answers], \"Negative\": [thai_suvarnabhumi_neg/thai_suvarnabhumi_answers, thai_don_muang_neg/thai_don_muang_answers]}\n",
        "\n",
        "normalize_df = pd.DataFrame(d)\n",
        "normalize_df.set_index('airport', inplace=True)"
      ],
      "metadata": {
        "id": "8MfDgsWbohld"
      },
      "execution_count": null,
      "outputs": []
    },
    {
      "cell_type": "code",
      "source": [
        "normalize_df"
      ],
      "metadata": {
        "colab": {
          "base_uri": "https://localhost:8080/",
          "height": 143
        },
        "id": "MDNhTn5ZomdU",
        "outputId": "8b19efb1-8156-4a5a-a932-1212529cdbf1"
      },
      "execution_count": null,
      "outputs": [
        {
          "output_type": "execute_result",
          "data": {
            "text/plain": [
              "                       Positive  Negative\n",
              "airport                                  \n",
              "Suvarnabhumi (70.89%)  0.238411  0.761589\n",
              "Don Muang (75.44%)     0.279070  0.720930"
            ],
            "text/html": [
              "\n",
              "  <div id=\"df-83f703a6-446d-424e-acbc-e7a162c7f481\">\n",
              "    <div class=\"colab-df-container\">\n",
              "      <div>\n",
              "<style scoped>\n",
              "    .dataframe tbody tr th:only-of-type {\n",
              "        vertical-align: middle;\n",
              "    }\n",
              "\n",
              "    .dataframe tbody tr th {\n",
              "        vertical-align: top;\n",
              "    }\n",
              "\n",
              "    .dataframe thead th {\n",
              "        text-align: right;\n",
              "    }\n",
              "</style>\n",
              "<table border=\"1\" class=\"dataframe\">\n",
              "  <thead>\n",
              "    <tr style=\"text-align: right;\">\n",
              "      <th></th>\n",
              "      <th>Positive</th>\n",
              "      <th>Negative</th>\n",
              "    </tr>\n",
              "    <tr>\n",
              "      <th>airport</th>\n",
              "      <th></th>\n",
              "      <th></th>\n",
              "    </tr>\n",
              "  </thead>\n",
              "  <tbody>\n",
              "    <tr>\n",
              "      <th>Suvarnabhumi (70.89%)</th>\n",
              "      <td>0.238411</td>\n",
              "      <td>0.761589</td>\n",
              "    </tr>\n",
              "    <tr>\n",
              "      <th>Don Muang (75.44%)</th>\n",
              "      <td>0.279070</td>\n",
              "      <td>0.720930</td>\n",
              "    </tr>\n",
              "  </tbody>\n",
              "</table>\n",
              "</div>\n",
              "      <button class=\"colab-df-convert\" onclick=\"convertToInteractive('df-83f703a6-446d-424e-acbc-e7a162c7f481')\"\n",
              "              title=\"Convert this dataframe to an interactive table.\"\n",
              "              style=\"display:none;\">\n",
              "        \n",
              "  <svg xmlns=\"http://www.w3.org/2000/svg\" height=\"24px\"viewBox=\"0 0 24 24\"\n",
              "       width=\"24px\">\n",
              "    <path d=\"M0 0h24v24H0V0z\" fill=\"none\"/>\n",
              "    <path d=\"M18.56 5.44l.94 2.06.94-2.06 2.06-.94-2.06-.94-.94-2.06-.94 2.06-2.06.94zm-11 1L8.5 8.5l.94-2.06 2.06-.94-2.06-.94L8.5 2.5l-.94 2.06-2.06.94zm10 10l.94 2.06.94-2.06 2.06-.94-2.06-.94-.94-2.06-.94 2.06-2.06.94z\"/><path d=\"M17.41 7.96l-1.37-1.37c-.4-.4-.92-.59-1.43-.59-.52 0-1.04.2-1.43.59L10.3 9.45l-7.72 7.72c-.78.78-.78 2.05 0 2.83L4 21.41c.39.39.9.59 1.41.59.51 0 1.02-.2 1.41-.59l7.78-7.78 2.81-2.81c.8-.78.8-2.07 0-2.86zM5.41 20L4 18.59l7.72-7.72 1.47 1.35L5.41 20z\"/>\n",
              "  </svg>\n",
              "      </button>\n",
              "      \n",
              "  <style>\n",
              "    .colab-df-container {\n",
              "      display:flex;\n",
              "      flex-wrap:wrap;\n",
              "      gap: 12px;\n",
              "    }\n",
              "\n",
              "    .colab-df-convert {\n",
              "      background-color: #E8F0FE;\n",
              "      border: none;\n",
              "      border-radius: 50%;\n",
              "      cursor: pointer;\n",
              "      display: none;\n",
              "      fill: #1967D2;\n",
              "      height: 32px;\n",
              "      padding: 0 0 0 0;\n",
              "      width: 32px;\n",
              "    }\n",
              "\n",
              "    .colab-df-convert:hover {\n",
              "      background-color: #E2EBFA;\n",
              "      box-shadow: 0px 1px 2px rgba(60, 64, 67, 0.3), 0px 1px 3px 1px rgba(60, 64, 67, 0.15);\n",
              "      fill: #174EA6;\n",
              "    }\n",
              "\n",
              "    [theme=dark] .colab-df-convert {\n",
              "      background-color: #3B4455;\n",
              "      fill: #D2E3FC;\n",
              "    }\n",
              "\n",
              "    [theme=dark] .colab-df-convert:hover {\n",
              "      background-color: #434B5C;\n",
              "      box-shadow: 0px 1px 3px 1px rgba(0, 0, 0, 0.15);\n",
              "      filter: drop-shadow(0px 1px 2px rgba(0, 0, 0, 0.3));\n",
              "      fill: #FFFFFF;\n",
              "    }\n",
              "  </style>\n",
              "\n",
              "      <script>\n",
              "        const buttonEl =\n",
              "          document.querySelector('#df-83f703a6-446d-424e-acbc-e7a162c7f481 button.colab-df-convert');\n",
              "        buttonEl.style.display =\n",
              "          google.colab.kernel.accessAllowed ? 'block' : 'none';\n",
              "\n",
              "        async function convertToInteractive(key) {\n",
              "          const element = document.querySelector('#df-83f703a6-446d-424e-acbc-e7a162c7f481');\n",
              "          const dataTable =\n",
              "            await google.colab.kernel.invokeFunction('convertToInteractive',\n",
              "                                                     [key], {});\n",
              "          if (!dataTable) return;\n",
              "\n",
              "          const docLinkHtml = 'Like what you see? Visit the ' +\n",
              "            '<a target=\"_blank\" href=https://colab.research.google.com/notebooks/data_table.ipynb>data table notebook</a>'\n",
              "            + ' to learn more about interactive tables.';\n",
              "          element.innerHTML = '';\n",
              "          dataTable['output_type'] = 'display_data';\n",
              "          await google.colab.output.renderOutput(dataTable, element);\n",
              "          const docLink = document.createElement('div');\n",
              "          docLink.innerHTML = docLinkHtml;\n",
              "          element.appendChild(docLink);\n",
              "        }\n",
              "      </script>\n",
              "    </div>\n",
              "  </div>\n",
              "  "
            ]
          },
          "metadata": {},
          "execution_count": 124
        }
      ]
    },
    {
      "cell_type": "markdown",
      "source": [
        "### Plot graph"
      ],
      "metadata": {
        "id": "j1e1zJ76qhl2"
      }
    },
    {
      "cell_type": "code",
      "source": [
        "normalize_df.plot(kind='bar', stacked=True, cmap='tab10', figsize=(10, 8))\n",
        "\n",
        "plt.legend(loc=\"lower right\", ncol=2)\n",
        "plt.xlabel(\"Airport (Accuracy)\")\n",
        "plt.ylabel(\"Proportion\")\n",
        "\n",
        "for n, x in enumerate([*normalize_df.index.values]):\n",
        "    for (proportion, y_loc) in zip(normalize_df.loc[x],\n",
        "                                   normalize_df.loc[x].cumsum()):\n",
        "                \n",
        "        plt.text(x=n-0.08,\n",
        "                 y=y_loc,\n",
        "                 s=f'{np.round(proportion * 100, 1)}%', \n",
        "                 color=\"black\",\n",
        "                 fontsize=12,\n",
        "                 fontweight=\"bold\")\n",
        "\n",
        "plt.show()"
      ],
      "metadata": {
        "colab": {
          "base_uri": "https://localhost:8080/",
          "height": 608
        },
        "id": "UHIw8b4LnWbu",
        "outputId": "cbb891bc-0a32-453a-d474-23853a11ddad"
      },
      "execution_count": null,
      "outputs": [
        {
          "output_type": "display_data",
          "data": {
            "text/plain": [
              "<Figure size 720x576 with 1 Axes>"
            ],
            "image/png": "[encoded data removed]"
          },
          "metadata": {
            "needs_background": "light"
          }
        }
      ]
    }
  ]
}